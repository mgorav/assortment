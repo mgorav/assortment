{
 "cells": [
  {
   "cell_type": "markdown",
   "id": "9929f195",
   "metadata": {},
   "source": [
    "# Automated Data Quality Rules Generation using Hugging Face Transformers"
   ]
  },
  {
   "cell_type": "markdown",
   "id": "6092f638",
   "metadata": {},
   "source": [
    "## Introduction\n",
    "This notebook outlines an end-to-end process for generating semantic tags for dataset columns using a model from Hugging Face. These tags are then used to create and apply data quality rules to a sample dataset."
   ]
  },
  {
   "cell_type": "markdown",
   "id": "5d2f2d82",
   "metadata": {},
   "source": [
    "## Setup\n",
    "First, we will install and import the necessary libraries for our task."
   ]
  },
  {
   "cell_type": "code",
   "execution_count": 9,
   "id": "5f393c3c",
   "metadata": {
    "ExecuteTime": {
     "end_time": "2024-02-15T17:28:38.388808Z",
     "start_time": "2024-02-15T17:28:38.381617Z"
    }
   },
   "outputs": [],
   "source": [
    "# !pip install transformers\n",
    "# ! pip install pyarrow\n",
    "\n",
    "import pandas as pd\n",
    "from transformers import pipeline"
   ]
  },
  {
   "cell_type": "markdown",
   "id": "194090f3",
   "metadata": {},
   "source": [
    "## Loading the Model\n",
    "We load a zero-shot classification model which will be used to predict semantic tags for our dataset columns."
   ]
  },
  {
   "cell_type": "code",
   "execution_count": 10,
   "id": "5fbd4f7a",
   "metadata": {
    "ExecuteTime": {
     "end_time": "2024-02-15T17:28:43.900174Z",
     "start_time": "2024-02-15T17:28:40.618691Z"
    }
   },
   "outputs": [],
   "source": [
    "# Load a zero-shot-classification pipeline\n",
    "classifier = pipeline('zero-shot-classification', model='facebook/bart-large-mnli')"
   ]
  },
  {
   "cell_type": "markdown",
   "id": "8776d87a",
   "metadata": {},
   "source": [
    "## Sample Dataset\n",
    "We will create a sample dataset to demonstrate the generation and application of DQ rules."
   ]
  },
  {
   "cell_type": "code",
   "execution_count": 11,
   "id": "f4d47d46",
   "metadata": {
    "ExecuteTime": {
     "end_time": "2024-02-15T17:28:43.907176Z",
     "start_time": "2024-02-15T17:28:43.902658Z"
    }
   },
   "outputs": [],
   "source": [
    "sample_data = {\n",
    "    'Product_Name': ['T-shirt', 'Jeans', '', 'Socks', 'Jacket'],\n",
    "    'Price': [19.99, 49.99, 24.99, 5.99, -1],\n",
    "    'Stock_Count': [120, 90, -5, 200, 60]\n",
    "}\n",
    "df = pd.DataFrame(sample_data)"
   ]
  },
  {
   "cell_type": "markdown",
   "id": "723ce425",
   "metadata": {},
   "source": [
    "## Generate Semantic Tags\n",
    "For each column, we generate semantic tags that are relevant to the type of data contained in that column."
   ]
  },
  {
   "cell_type": "code",
   "execution_count": 12,
   "id": "8e2273c3",
   "metadata": {
    "ExecuteTime": {
     "end_time": "2024-02-15T17:28:45.483093Z",
     "start_time": "2024-02-15T17:28:45.479202Z"
    }
   },
   "outputs": [],
   "source": [
    "def generate_semantic_tags(column_name):\n",
    "    # Define potential tags\n",
    "    potential_tags = ['required', 'numeric_positive', 'integer_non_negative', 'unique', 'datetime', 'text']\n",
    "    # Use the classifier to get the most likely tags\n",
    "    result = classifier(column_name, potential_tags, multi_label=True)\n",
    "    return result['labels'][0]  # Return the top tag for simplicity in this example\n",
    "\n",
    "# Note: This function now requires an actual call to a classifier pipeline from Hugging Face.\n",
    "# Ensure you have internet access and the transformers library installed to use this function."
   ]
  },
  {
   "cell_type": "markdown",
   "id": "dc812e06",
   "metadata": {},
   "source": [
    "## Define Data Quality Rules\n",
    "Based on the generated tags, we define a set of DQ rules to apply to the dataset."
   ]
  },
  {
   "cell_type": "code",
   "execution_count": 13,
   "id": "d7f5cb31",
   "metadata": {
    "ExecuteTime": {
     "end_time": "2024-02-15T17:28:47.472283Z",
     "start_time": "2024-02-15T17:28:47.468032Z"
    }
   },
   "outputs": [],
   "source": [
    "def apply_dq_rules(df, column_name, tag):\n",
    "    if tag == 'required':\n",
    "        df[column_name + '_DQ'] = df[column_name].apply(lambda x: 'Valid' if pd.notnull(x) and x != '' else 'Invalid')\n",
    "    elif tag == 'numeric_positive':\n",
    "        df[column_name + '_DQ'] = df[column_name].apply(lambda x: 'Valid' if x > 0 else 'Invalid')\n",
    "    elif tag == 'integer_non_negative':\n",
    "        df[column_name + '_DQ'] = df[column_name].apply(lambda x: 'Valid' if pd.notnull(x) and isinstance(x, int) and x >= 0 else 'Invalid')\n",
    "    # Here you can add more DQ rules based on other tags\n",
    "    return df"
   ]
  },
  {
   "cell_type": "markdown",
   "id": "4defcd64",
   "metadata": {},
   "source": [
    "## Apply Data Quality Rules\n",
    "We now apply the defined DQ rules to our sample dataset."
   ]
  },
  {
   "cell_type": "code",
   "execution_count": 14,
   "id": "b6c5277e",
   "metadata": {
    "ExecuteTime": {
     "end_time": "2024-02-15T17:28:53.173510Z",
     "start_time": "2024-02-15T17:28:48.661138Z"
    }
   },
   "outputs": [
    {
     "data": {
      "text/plain": "  Product_Name  Price  Stock_Count Product_Name_DQ Stock_Count_DQ\n0      T-shirt  19.99          120           Valid          Valid\n1        Jeans  49.99           90           Valid          Valid\n2               24.99           -5         Invalid          Valid\n3        Socks   5.99          200           Valid          Valid\n4       Jacket  -1.00           60           Valid          Valid",
      "text/html": "<div>\n<style scoped>\n    .dataframe tbody tr th:only-of-type {\n        vertical-align: middle;\n    }\n\n    .dataframe tbody tr th {\n        vertical-align: top;\n    }\n\n    .dataframe thead th {\n        text-align: right;\n    }\n</style>\n<table border=\"1\" class=\"dataframe\">\n  <thead>\n    <tr style=\"text-align: right;\">\n      <th></th>\n      <th>Product_Name</th>\n      <th>Price</th>\n      <th>Stock_Count</th>\n      <th>Product_Name_DQ</th>\n      <th>Stock_Count_DQ</th>\n    </tr>\n  </thead>\n  <tbody>\n    <tr>\n      <th>0</th>\n      <td>T-shirt</td>\n      <td>19.99</td>\n      <td>120</td>\n      <td>Valid</td>\n      <td>Valid</td>\n    </tr>\n    <tr>\n      <th>1</th>\n      <td>Jeans</td>\n      <td>49.99</td>\n      <td>90</td>\n      <td>Valid</td>\n      <td>Valid</td>\n    </tr>\n    <tr>\n      <th>2</th>\n      <td></td>\n      <td>24.99</td>\n      <td>-5</td>\n      <td>Invalid</td>\n      <td>Valid</td>\n    </tr>\n    <tr>\n      <th>3</th>\n      <td>Socks</td>\n      <td>5.99</td>\n      <td>200</td>\n      <td>Valid</td>\n      <td>Valid</td>\n    </tr>\n    <tr>\n      <th>4</th>\n      <td>Jacket</td>\n      <td>-1.00</td>\n      <td>60</td>\n      <td>Valid</td>\n      <td>Valid</td>\n    </tr>\n  </tbody>\n</table>\n</div>"
     },
     "execution_count": 14,
     "metadata": {},
     "output_type": "execute_result"
    }
   ],
   "source": [
    "for column in df.columns:\n",
    "    tag = generate_semantic_tags(column)\n",
    "    df = apply_dq_rules(df, column, tag)\n",
    "df"
   ]
  },
  {
   "cell_type": "markdown",
   "id": "9e1869d6",
   "metadata": {},
   "source": [
    "## Conclusion\n",
    "The final DataFrame displayed above shows the original data along with the results of the DQ rules application. This process can be scaled and automated to enhance data quality across various datasets."
   ]
  },
  {
   "cell_type": "code",
   "outputs": [],
   "source": [],
   "metadata": {
    "collapsed": false
   },
   "id": "a3e4d0f014fd37e8"
  }
 ],
 "metadata": {
  "kernelspec": {
   "display_name": "Python 3 (ipykernel)",
   "language": "python",
   "name": "python3"
  }
 },
 "nbformat": 4,
 "nbformat_minor": 5
}
